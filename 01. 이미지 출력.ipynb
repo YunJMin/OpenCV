{
 "cells": [
  {
   "cell_type": "markdown",
   "id": "2b800eb4",
   "metadata": {},
   "source": [
    "# 환경 설정\n",
    "Anaconda Promt 에서 다음 명령 수행\n",
    "> pip install opencv-python"
   ]
  },
  {
   "cell_type": "code",
   "execution_count": null,
   "id": "589c41c1",
   "metadata": {},
   "outputs": [],
   "source": [
    "import cv2\n",
    "cv2.__version__"
   ]
  },
  {
   "cell_type": "markdown",
   "id": "0815bf4f",
   "metadata": {},
   "source": [
    "# OpenCV (Computer Vision)\n",
    "다양한 영상(이미지) / 동영상 처리에 사용되는 오픈소스 라이브러리"
   ]
  },
  {
   "cell_type": "markdown",
   "id": "4ff10d5d",
   "metadata": {},
   "source": [
    "# 1. 이미지 출력"
   ]
  },
  {
   "cell_type": "code",
   "execution_count": null,
   "id": "fd2a18de",
   "metadata": {},
   "outputs": [],
   "source": [
    "import cv2\n",
    "img = cv2.imread('img.jpg') # 해당 경로의 파일 읽어오기\n",
    "cv2.imshow('cat', img) #img라는 이름의 창에 img를 표시\n",
    "cv2.waitKey(0) # 지정된 시간(ms)동안 사용자 키 입력 대기\n",
    "cv2.destroyAllWindows() # 모든 창 닫기"
   ]
  },
  {
   "cell_type": "markdown",
   "id": "17a23007",
   "metadata": {},
   "source": [
    "## 읽기 옵션\n",
    "1. cv2.IMREAD_COLOR : 컬러 이미지, 투명 영역은 무시(기본값)\n",
    "1. cv2.IMREAD_GRAYSCALE : 흑백 이미지\n",
    "1. cv2.IMREAD_UNCHANGED : 투명 영역까지 포함"
   ]
  },
  {
   "cell_type": "code",
   "execution_count": null,
   "id": "c942de1a",
   "metadata": {},
   "outputs": [],
   "source": [
    "import cv2\n",
    "img_color = cv2.imread('img.jpg', cv2.IMREAD_COLOR)\n",
    "img_gray = cv2.imread('img.jpg', cv2.IMREAD_GRAYSCALE)\n",
    "img_unchanged = cv2.imread('img.jpg', cv2.IMREAD_UNCHANGED)\n",
    "\n",
    "cv2.imshow('img_color', img_color)\n",
    "cv2.imshow('img_gray', img_gray)\n",
    "cv2.imshow('img_unchanged', img_unchanged)\n",
    "\n",
    "cv2.waitKey(0)\n",
    "cv2.destroyAllWindows()"
   ]
  }
 ],
 "metadata": {
  "kernelspec": {
   "display_name": "Python 3 (ipykernel)",
   "language": "python",
   "name": "python3"
  },
  "language_info": {
   "codemirror_mode": {
    "name": "ipython",
    "version": 3
   },
   "file_extension": ".py",
   "mimetype": "text/x-python",
   "name": "python",
   "nbconvert_exporter": "python",
   "pygments_lexer": "ipython3",
   "version": "3.9.12"
  }
 },
 "nbformat": 4,
 "nbformat_minor": 5
}
